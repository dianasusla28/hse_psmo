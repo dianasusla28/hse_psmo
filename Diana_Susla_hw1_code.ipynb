{
  "nbformat": 4,
  "nbformat_minor": 0,
  "metadata": {
    "colab": {
      "name": "Untitled1.ipynb",
      "provenance": []
    },
    "kernelspec": {
      "name": "python3",
      "display_name": "Python 3"
    }
  },
  "cells": [
    {
      "cell_type": "code",
      "metadata": {
        "id": "iOTp7TKXvKAZ"
      },
      "source": [
        "import numpy as np\n",
        "import matplotlib.pyplot as plt\n",
        "plt.style.use('ggplot')\n",
        "from scipy import optimize"
      ],
      "execution_count": 1,
      "outputs": []
    },
    {
      "cell_type": "code",
      "metadata": {
        "id": "GzoWmDj8fzaU"
      },
      "source": [
        "import warnings\n",
        "warnings.filterwarnings(\"ignore\")  #самая важная и нужная вещь в этом ноутбуке!"
      ],
      "execution_count": 2,
      "outputs": []
    },
    {
      "cell_type": "markdown",
      "metadata": {
        "id": "nfZ5XX22UWUH"
      },
      "source": [
        "**ЗАДАНИЕ 2**"
      ]
    },
    {
      "cell_type": "code",
      "metadata": {
        "id": "_RTmavjHvQgz"
      },
      "source": [
        "def loglike(q, x):\n",
        "    n = len(x)\n",
        "    ll = n * np.log(2) - n * np.log(q) - (1 / q) * np.sum(np.square(x)) + np.sum(np.log(x))\n",
        "    return -ll  #Сразу готовим для оптимизации\n",
        "\n",
        "def like(q, x):\n",
        "    n = len(x)\n",
        "    l = np.power((2 / q), n) * np.prod(x) * np.prod(np.exp(-np.square(x) / q))\n",
        "    return l"
      ],
      "execution_count": 3,
      "outputs": []
    },
    {
      "cell_type": "code",
      "metadata": {
        "id": "dl8zHLpfvN8J",
        "outputId": "6a9b4eff-8727-40e8-dd5a-b963d000f93a",
        "colab": {
          "base_uri": "https://localhost:8080/",
          "height": 35
        }
      },
      "source": [
        "x1 = np.arange(1, 7, 0.001)\n",
        "q_hat1 = optimize.minimize(loglike, 7, x1, method = 'Nelder-Mead')['x'][0]\n",
        "q_hat1"
      ],
      "execution_count": 86,
      "outputs": [
        {
          "output_type": "execute_result",
          "data": {
            "text/plain": [
              "18.995959472656246"
            ]
          },
          "metadata": {
            "tags": []
          },
          "execution_count": 86
        }
      ]
    },
    {
      "cell_type": "markdown",
      "metadata": {
        "id": "wE2yT5s1XhlQ"
      },
      "source": [
        "Оставила ячейку выше как есть. Главная проблема (если так можно сказать) с которой я столкнулась - мы подаем на вход логарифмической функции правдоподобия значения, распределенные не с заданной в условии плотностью, а просто какие-то. Это не очень корректно. \n",
        "\n",
        "Исправим это. Для этого воспользуюсь функцией scipy.stats.rv_continuous, чтобы сгенерировать выборку с нужным распределением."
      ]
    },
    {
      "cell_type": "code",
      "metadata": {
        "id": "4kYKG-OfX6Pm"
      },
      "source": [
        "from scipy.stats import rv_continuous\n",
        "\n",
        "class my_distr(rv_continuous):\n",
        "    def _pdf(self, x, q=0.1):\n",
        "        return ((2 * x) / q) * np.exp(-np.square(x) / q)\n",
        "my_dist = my_distr(shapes='my_dist')\n"
      ],
      "execution_count": 82,
      "outputs": []
    },
    {
      "cell_type": "code",
      "metadata": {
        "id": "DfgXbFBDZkWZ"
      },
      "source": [
        "x1 = my_dist._pdf(x1)"
      ],
      "execution_count": 87,
      "outputs": []
    },
    {
      "cell_type": "code",
      "metadata": {
        "id": "AC9Go30pSZJc",
        "outputId": "9a34be94-5af6-4836-d847-77f074121089",
        "colab": {
          "base_uri": "https://localhost:8080/",
          "height": 35
        }
      },
      "source": [
        "q_hat = optimize.minimize(loglike, 1, x1, method = 'Nelder-Mead')['x'][0]\n",
        "q_hat"
      ],
      "execution_count": 88,
      "outputs": [
        {
          "output_type": "execute_result",
          "data": {
            "text/plain": [
              "3.5885014071368488e-09"
            ]
          },
          "metadata": {
            "tags": []
          },
          "execution_count": 88
        }
      ]
    },
    {
      "cell_type": "code",
      "metadata": {
        "id": "z8lkVlRUSxEk",
        "outputId": "f0ff567d-cc47-470c-bac1-e6e6bed26ae4",
        "colab": {
          "base_uri": "https://localhost:8080/",
          "height": 35
        }
      },
      "source": [
        "def fisher(q, x):\n",
        "    n = len(x)\n",
        "    return (-n * q + 2 * n * np.exp(-np.square(x) /  q) * (q + np.square(x))) / (np.power(q, 3)) # E(-H)\n",
        "\n",
        "Ifi_hat = fisher(q_hat1, x1)[0]\n",
        "Ifi_hat"
      ],
      "execution_count": 89,
      "outputs": [
        {
          "output_type": "execute_result",
          "data": {
            "text/plain": [
              "16.62756987886235"
            ]
          },
          "metadata": {
            "tags": []
          },
          "execution_count": 89
        }
      ]
    },
    {
      "cell_type": "code",
      "metadata": {
        "id": "ta42EotMSyHC",
        "outputId": "c9859e1b-ec19-4c81-aedf-db1d1b0a8928",
        "colab": {
          "base_uri": "https://localhost:8080/",
          "height": 35
        }
      },
      "source": [
        "var_q_hat = 1 / Ifi_hat\n",
        "var_q_hat"
      ],
      "execution_count": 90,
      "outputs": [
        {
          "output_type": "execute_result",
          "data": {
            "text/plain": [
              "0.06014107938113321"
            ]
          },
          "metadata": {
            "tags": []
          },
          "execution_count": 90
        }
      ]
    },
    {
      "cell_type": "code",
      "metadata": {
        "id": "UTI36fqyveVE",
        "outputId": "505a50ee-1bcb-4ca0-d797-739d3d309af1",
        "colab": {
          "base_uri": "https://localhost:8080/",
          "height": 35
        }
      },
      "source": [
        "left_bound = q_hat - 1.96 * np.sqrt(var_q_hat)\n",
        "right_bound = q_hat + 1.96 * np.sqrt(var_q_hat)\n",
        "print('q \\in [%f; %f]' % (left_bound, right_bound))\n"
      ],
      "execution_count": 91,
      "outputs": [
        {
          "output_type": "stream",
          "text": [
            "q \\in [-0.480664; 0.480664]\n"
          ],
          "name": "stdout"
        }
      ]
    },
    {
      "cell_type": "markdown",
      "metadata": {
        "id": "aeGt0aKAURoY"
      },
      "source": [
        "**ЗАДАНИЕ 4**"
      ]
    },
    {
      "cell_type": "code",
      "metadata": {
        "id": "BTsrSlr9US_9"
      },
      "source": [
        "x = np.random.normal(0, 1, 300)  #генерируем 300 x_i\n",
        "ln_u = np.random.normal(0, 1, 300)  #генерируем 300 ln(u_i)\n",
        "u = np.exp(ln_u)  #получаем u_i путем взятия экспоненты от ln(u_i)\n",
        "y = 3 * np.exp(x) * u"
      ],
      "execution_count": 69,
      "outputs": []
    },
    {
      "cell_type": "code",
      "metadata": {
        "id": "aaifdBNMXp3I"
      },
      "source": [
        "def num_ml(x, y):\n",
        "    n = len(x)\n",
        "    b2 = (np.sum(np.log(y)) * np.sum(x) - n * np.sum(x * np.log(y))) / (np.square(np.sum(x)) - n * np.sum(np.square(x)))\n",
        "    b1 = np.exp((np.sum(np.log(y)) - b2 * np.sum(x)) / (n))\n",
        "    return b1, b2"
      ],
      "execution_count": 70,
      "outputs": []
    },
    {
      "cell_type": "markdown",
      "metadata": {
        "id": "tVRsrhjYRj0W"
      },
      "source": [
        "Пункт d:"
      ]
    },
    {
      "cell_type": "code",
      "metadata": {
        "id": "8wTpiqZtZKWY",
        "outputId": "89f0f9df-b268-44cf-ceef-8a9dc47f1698",
        "colab": {
          "base_uri": "https://localhost:8080/",
          "height": 35
        }
      },
      "source": [
        "num_ml(x, y)"
      ],
      "execution_count": 71,
      "outputs": [
        {
          "output_type": "execute_result",
          "data": {
            "text/plain": [
              "(3.152979624998214, 1.0420012293056187)"
            ]
          },
          "metadata": {
            "tags": []
          },
          "execution_count": 71
        }
      ]
    },
    {
      "cell_type": "markdown",
      "metadata": {
        "id": "CTT_UWNXJBnn"
      },
      "source": [
        "Численно всегда выходит примерно 3 и 1, так что округлю до 3 и 1 при решении пункта e)"
      ]
    },
    {
      "cell_type": "markdown",
      "metadata": {
        "id": "6vYG_z8gRf-Z"
      },
      "source": [
        "Пункт e:"
      ]
    },
    {
      "cell_type": "code",
      "metadata": {
        "id": "8wAlUho-RiEa"
      },
      "source": [
        "def L(x, y, b1, b2):\n",
        "    n = len(x)\n",
        "    return n * np.log(1 / np.sqrt(2 * np.pi)) - 1/2 * np.sum(np.square(np.log(y) - np.log(b1) - b2 * x))"
      ],
      "execution_count": 72,
      "outputs": []
    },
    {
      "cell_type": "markdown",
      "metadata": {
        "id": "asydxoU3S_dn"
      },
      "source": [
        "Запишем нашу гипотезу и ml оценку"
      ]
    },
    {
      "cell_type": "code",
      "metadata": {
        "id": "ZHTZntaDSeU8"
      },
      "source": [
        "b_0 = (1, 2)\n",
        "b_ml = num_ml(x, y)"
      ],
      "execution_count": 76,
      "outputs": []
    },
    {
      "cell_type": "markdown",
      "metadata": {
        "id": "ra9SVdrCTIXe"
      },
      "source": [
        "Почитаем $LR = 2(L(b_{H_0}) - L(b_{ML}))$"
      ]
    },
    {
      "cell_type": "code",
      "metadata": {
        "id": "KUdtPLwTSovK",
        "outputId": "ac9e5881-d5db-4f78-990e-e0c340186b82",
        "colab": {
          "base_uri": "https://localhost:8080/",
          "height": 35
        }
      },
      "source": [
        "LR = 2 * (L(x, y, b_ml[0], b_ml[1]) - L(x, y, b_0[0], b_0[1]))\n",
        "print('Значение LR =', LR)"
      ],
      "execution_count": 81,
      "outputs": [
        {
          "output_type": "stream",
          "text": [
            "Значение LR = 646.1119662470614\n"
          ],
          "name": "stdout"
        }
      ]
    },
    {
      "cell_type": "markdown",
      "metadata": {
        "id": "4apfiPobUcam"
      },
      "source": [
        "LR больше, чем Хи квадрат критическое $\\approx$ 3, 96, значит $H_0$ не принимается."
      ]
    },
    {
      "cell_type": "markdown",
      "metadata": {
        "id": "xeV8j5BOVbvo"
      },
      "source": [
        "Ура, мы справились!"
      ]
    }
  ]
}